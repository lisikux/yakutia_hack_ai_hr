{
 "cells": [
  {
   "cell_type": "code",
   "execution_count": 23,
   "id": "e370da31",
   "metadata": {},
   "outputs": [],
   "source": [
    "# import libraries\n",
    "import pandas as pd\n",
    "import numpy as np\n",
    "\n",
    "from functools import reduce\n",
    "\n",
    "from sklearn.svm import SVC\n",
    "\n",
    "from sklearn.metrics import classification_report\n",
    "from sklearn.preprocessing import StandardScaler\n",
    "from sklearn.model_selection import train_test_split\n",
    "from sklearn.model_selection import GridSearchCV\n",
    "#from sklearn.model_selection import RepeatedStratifiedKFold\n",
    "from sklearn.decomposition import PCA\n",
    "\n",
    "from imblearn.over_sampling import SMOTE\n",
    "from imblearn.pipeline import Pipeline\n",
    "\n",
    "# set pd options for comfort display\n",
    "pd.set_option('display.max_rows', 500)\n",
    "pd.set_option('display.max_columns', 500)"
   ]
  },
  {
   "cell_type": "code",
   "execution_count": 24,
   "id": "4c62467c",
   "metadata": {},
   "outputs": [],
   "source": [
    "# import train and test datasets\n",
    "train = pd.read_csv('data/train_dataset_train.csv')\n",
    "test = pd.read_csv('data/test_dataset_test.csv')\n",
    "\n",
    "# mark each dataset before merge\n",
    "train['train'] = 1\n",
    "test['train'] = 0\n",
    "\n",
    "# merge datasets (for correct n/a handling)\n",
    "data=pd.concat([train, test])"
   ]
  },
  {
   "cell_type": "code",
   "execution_count": 25,
   "id": "26d972e5",
   "metadata": {},
   "outputs": [
    {
     "data": {
      "text/plain": [
       "(262, 3)"
      ]
     },
     "execution_count": 25,
     "metadata": {},
     "output_type": "execute_result"
    }
   ],
   "source": [
    "data[data['train'] == 0].shape"
   ]
  },
  {
   "cell_type": "code",
   "execution_count": 26,
   "id": "00700c67",
   "metadata": {},
   "outputs": [],
   "source": [
    "# calls data\n",
    "calls = pd.read_csv('data/prepared/grouped_calls.csv')\n",
    "# connection data\n",
    "connection = pd.read_csv('data/prepared/grouped_connection.csv')\n",
    "# education data\n",
    "education = pd.read_csv('data/prepared/education.csv')\n",
    "# network data\n",
    "network = pd.read_csv('data/prepared/grouped_network.csv')\n",
    "# skud data\n",
    "skud = pd.read_csv('data/prepared/grouped_skud.csv')\n",
    "# tasks data\n",
    "tasks = pd.read_csv('data/prepared/grouped_tasks.csv')\n",
    "# work data\n",
    "work = pd.read_csv('data/prepared/grouped_work.csv')"
   ]
  },
  {
   "cell_type": "code",
   "execution_count": 27,
   "id": "8323c078",
   "metadata": {},
   "outputs": [],
   "source": [
    "# list of dataframes to merge\n",
    "dataframes = [data, calls, connection, education, network, skud, tasks, work]\n",
    "# merging dataframes with using reduce function\n",
    "data = reduce(lambda left, right: pd.merge(left, right, on=['id'],\n",
    "                                            how='left'), dataframes)"
   ]
  },
  {
   "cell_type": "code",
   "execution_count": 28,
   "id": "fc7bf95e",
   "metadata": {
    "scrolled": true
   },
   "outputs": [],
   "source": [
    "# get feature about organization from id (1 and 2)\n",
    "data['org'] = data['id'].apply(lambda x: int(x[3]))\n",
    "data.drop('id', axis=1, inplace=True)"
   ]
  },
  {
   "cell_type": "code",
   "execution_count": 29,
   "id": "5d4c725f",
   "metadata": {},
   "outputs": [],
   "source": [
    "# drop categorial data\n",
    "data = data.drop(['Вид образования', 'Специальность'], axis=1)"
   ]
  },
  {
   "cell_type": "code",
   "execution_count": 30,
   "id": "f922905c",
   "metadata": {},
   "outputs": [],
   "source": [
    "# fillna with 0 in exists cols\n",
    "for col in ['exists_in_calls', 'exists_in_connection', 'exists_in_education',\n",
    "      'exists_in_network', 'exists_in_skud', 'exists_in_tasks', 'exists_in_work']:\n",
    "    data[col] = data[col].fillna(0)"
   ]
  },
  {
   "cell_type": "code",
   "execution_count": 31,
   "id": "a2d0c456",
   "metadata": {},
   "outputs": [],
   "source": [
    "for col in data.columns:\n",
    "        data[col] = data[col].fillna(data[col].mean())"
   ]
  },
  {
   "cell_type": "code",
   "execution_count": 32,
   "id": "60bcb19a",
   "metadata": {},
   "outputs": [],
   "source": [
    "data_model = data.copy()"
   ]
  },
  {
   "cell_type": "code",
   "execution_count": 33,
   "id": "f223d3d8",
   "metadata": {},
   "outputs": [],
   "source": [
    "# X for train part\n",
    "X = data_model[data_model.train == 1].drop('type', axis=1)\n",
    "# y for train part\n",
    "y = data_model[data_model.train == 1][[\"type\"]].values.ravel()"
   ]
  },
  {
   "cell_type": "code",
   "execution_count": 34,
   "id": "2f4e40eb",
   "metadata": {},
   "outputs": [],
   "source": [
    "# Pipeline \n",
    "# StandardScaler\n",
    "scaler = StandardScaler()\n",
    "# principal component analysis\n",
    "pca = PCA(n_components=80)\n",
    "#oversampler\n",
    "smote = SMOTE(k_neighbors=6)\n",
    "# support vector C-Support Vector Classification\n",
    "clf = SVC(C=0.01, kernel='linear')\n",
    "\n",
    "#pipeline\n",
    "pipe = Pipeline([\n",
    "    ('scaler', scaler), \n",
    "    ('pca', pca),\n",
    "    ('smote', smote),\n",
    "    ('clf', clf)\n",
    "])"
   ]
  },
  {
   "cell_type": "code",
   "execution_count": 35,
   "id": "8112cac6",
   "metadata": {},
   "outputs": [],
   "source": [
    "#GridSearchCV hyperparameters tuning\n",
    "\n",
    "#param_grid = {'smote__k_neighbors': [4,5,6,7],\n",
    "#              'clf__C': [0.001, 0.01, 0.1, 1, 10],\n",
    "#              'clf__kernel': ['rbf', 'linear']\n",
    "#            }\n",
    "#\n",
    "#cv = RepeatedStratifiedKFold(n_splits=4, n_repeats=5, random_state=24)\n",
    "#\n",
    "#gridsearch = GridSearchCV(pipe, param_grid=param_grid, cv=cv, scoring='recall_macro', n_jobs=-1, verbose=2)"
   ]
  },
  {
   "cell_type": "code",
   "execution_count": 36,
   "id": "a485f1f8",
   "metadata": {
    "scrolled": true
   },
   "outputs": [],
   "source": [
    "#gridsearch.fit(X, y)\n",
    "#print(gridsearch.best_params_)"
   ]
  },
  {
   "cell_type": "code",
   "execution_count": 38,
   "id": "8549f028",
   "metadata": {},
   "outputs": [
    {
     "name": "stdout",
     "output_type": "stream",
     "text": [
      "              precision    recall  f1-score   support\n",
      "\n",
      "           0       0.46      0.47      0.47        38\n",
      "           1       0.33      0.68      0.44        19\n",
      "           2       0.65      0.37      0.47        75\n",
      "           3       0.19      0.50      0.27         6\n",
      "\n",
      "    accuracy                           0.45       138\n",
      "   macro avg       0.41      0.51      0.41       138\n",
      "weighted avg       0.53      0.45      0.46       138\n",
      "\n"
     ]
    }
   ],
   "source": [
    "#train test split\n",
    "X_train, X_valid, y_train, y_valid = train_test_split(X, y, stratify=y, test_size=0.25, random_state=24)\n",
    "# fit pipeline\n",
    "pipe.fit(X_train, y_train)\n",
    "# predict on validation data\n",
    "pred = pipe.predict(X_valid)\n",
    "# print classification report\n",
    "print(classification_report(y_valid, pred))"
   ]
  },
  {
   "cell_type": "code",
   "execution_count": 39,
   "id": "dc994385",
   "metadata": {},
   "outputs": [],
   "source": [
    "# preparing X_test for prediction\n",
    "X_sub = data_model[data.train == 0].drop('type', axis=1)\n",
    "# predict test for submit\n",
    "predicted = pipe.predict(X_sub)\n",
    "#reimport test df\n",
    "test = pd.read_csv('data/test_dataset_test.csv')\n",
    "# set prediction to df\n",
    "test['type'] = predicted\n",
    "# remove train column befora save"
   ]
  },
  {
   "cell_type": "code",
   "execution_count": 40,
   "id": "d1630c5a",
   "metadata": {},
   "outputs": [],
   "source": [
    "# write baseline for submission\n",
    "test.to_csv('submit.csv', index=False)"
   ]
  },
  {
   "cell_type": "code",
   "execution_count": 41,
   "id": "4f806ed9",
   "metadata": {},
   "outputs": [
    {
     "data": {
      "text/plain": [
       "2    91\n",
       "1    80\n",
       "0    68\n",
       "3    23\n",
       "Name: type, dtype: int64"
      ]
     },
     "execution_count": 41,
     "metadata": {},
     "output_type": "execute_result"
    }
   ],
   "source": [
    "pd.read_csv('submit.csv')['type'].value_counts()"
   ]
  },
  {
   "cell_type": "code",
   "execution_count": 42,
   "id": "141661e4",
   "metadata": {},
   "outputs": [
    {
     "data": {
      "text/plain": [
       "2    96\n",
       "0    77\n",
       "1    67\n",
       "3    22\n",
       "Name: type, dtype: int64"
      ]
     },
     "execution_count": 42,
     "metadata": {},
     "output_type": "execute_result"
    }
   ],
   "source": [
    "pd.read_csv('exp110.csv')['type'].value_counts()"
   ]
  },
  {
   "cell_type": "code",
   "execution_count": null,
   "id": "b3bc3a90",
   "metadata": {},
   "outputs": [],
   "source": []
  }
 ],
 "metadata": {
  "kernelspec": {
   "display_name": "Python 3 (ipykernel)",
   "language": "python",
   "name": "python3"
  },
  "language_info": {
   "codemirror_mode": {
    "name": "ipython",
    "version": 3
   },
   "file_extension": ".py",
   "mimetype": "text/x-python",
   "name": "python",
   "nbconvert_exporter": "python",
   "pygments_lexer": "ipython3",
   "version": "3.9.13"
  }
 },
 "nbformat": 4,
 "nbformat_minor": 5
}
