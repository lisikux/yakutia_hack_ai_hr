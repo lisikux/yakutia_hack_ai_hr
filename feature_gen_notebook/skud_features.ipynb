{
 "cells": [
  {
   "cell_type": "code",
   "execution_count": 1,
   "id": "c3f951a1",
   "metadata": {},
   "outputs": [],
   "source": [
    "# libraries import \n",
    "import pandas as pd\n",
    "import numpy as np\n",
    "\n",
    "from datetime import datetime"
   ]
  },
  {
   "cell_type": "code",
   "execution_count": 3,
   "id": "10ee4430",
   "metadata": {},
   "outputs": [
    {
     "data": {
      "text/html": [
       "<div>\n",
       "<style scoped>\n",
       "    .dataframe tbody tr th:only-of-type {\n",
       "        vertical-align: middle;\n",
       "    }\n",
       "\n",
       "    .dataframe tbody tr th {\n",
       "        vertical-align: top;\n",
       "    }\n",
       "\n",
       "    .dataframe thead th {\n",
       "        text-align: right;\n",
       "    }\n",
       "</style>\n",
       "<table border=\"1\" class=\"dataframe\">\n",
       "  <thead>\n",
       "    <tr style=\"text-align: right;\">\n",
       "      <th></th>\n",
       "      <th>Дата</th>\n",
       "      <th>Приход.1</th>\n",
       "      <th>Уход.1</th>\n",
       "      <th>Длительность общая</th>\n",
       "      <th>Длительность раб.дня без обеда</th>\n",
       "      <th>Вых/Будни</th>\n",
       "      <th>id</th>\n",
       "    </tr>\n",
       "  </thead>\n",
       "  <tbody>\n",
       "    <tr>\n",
       "      <th>0</th>\n",
       "      <td>2021-03-01 00:00:00,000</td>\n",
       "      <td>1899-12-30 08:11:00,000</td>\n",
       "      <td>1899-12-30 17:32:00,000</td>\n",
       "      <td>9,35</td>\n",
       "      <td>8,35</td>\n",
       "      <td>Будни</td>\n",
       "      <td>ОРГ1-00791</td>\n",
       "    </tr>\n",
       "    <tr>\n",
       "      <th>1</th>\n",
       "      <td>2021-03-01 00:00:00,000</td>\n",
       "      <td>1899-12-30 08:25:00,000</td>\n",
       "      <td>1899-12-30 17:32:00,000</td>\n",
       "      <td>9,1166666666666671</td>\n",
       "      <td>8,1166666666666671</td>\n",
       "      <td>Будни</td>\n",
       "      <td>ОРГ1-01826</td>\n",
       "    </tr>\n",
       "    <tr>\n",
       "      <th>2</th>\n",
       "      <td>2021-03-01 00:00:00,000</td>\n",
       "      <td>1899-12-30 08:31:00,000</td>\n",
       "      <td>1899-12-30 17:32:00,000</td>\n",
       "      <td>9,0166666666666657</td>\n",
       "      <td>8,0166666666666657</td>\n",
       "      <td>Будни</td>\n",
       "      <td>ОРГ1-00713</td>\n",
       "    </tr>\n",
       "    <tr>\n",
       "      <th>3</th>\n",
       "      <td>2021-03-01 00:00:00,000</td>\n",
       "      <td>1899-12-30 08:31:00,000</td>\n",
       "      <td>1899-12-30 17:32:00,000</td>\n",
       "      <td>9,0166666666666657</td>\n",
       "      <td>8,0166666666666657</td>\n",
       "      <td>Будни</td>\n",
       "      <td>ОРГ1-02127</td>\n",
       "    </tr>\n",
       "    <tr>\n",
       "      <th>4</th>\n",
       "      <td>2021-03-01 00:00:00,000</td>\n",
       "      <td>1899-12-30 08:19:00,000</td>\n",
       "      <td>1899-12-30 17:32:00,000</td>\n",
       "      <td>9,2166666666666668</td>\n",
       "      <td>8,2166666666666668</td>\n",
       "      <td>Будни</td>\n",
       "      <td>ОРГ1-01739</td>\n",
       "    </tr>\n",
       "  </tbody>\n",
       "</table>\n",
       "</div>"
      ],
      "text/plain": [
       "                      Дата                 Приход.1                   Уход.1  \\\n",
       "0  2021-03-01 00:00:00,000  1899-12-30 08:11:00,000  1899-12-30 17:32:00,000   \n",
       "1  2021-03-01 00:00:00,000  1899-12-30 08:25:00,000  1899-12-30 17:32:00,000   \n",
       "2  2021-03-01 00:00:00,000  1899-12-30 08:31:00,000  1899-12-30 17:32:00,000   \n",
       "3  2021-03-01 00:00:00,000  1899-12-30 08:31:00,000  1899-12-30 17:32:00,000   \n",
       "4  2021-03-01 00:00:00,000  1899-12-30 08:19:00,000  1899-12-30 17:32:00,000   \n",
       "\n",
       "   Длительность общая Длительность раб.дня без обеда Вых/Будни          id  \n",
       "0                9,35                           8,35     Будни  ОРГ1-00791  \n",
       "1  9,1166666666666671             8,1166666666666671     Будни  ОРГ1-01826  \n",
       "2  9,0166666666666657             8,0166666666666657     Будни  ОРГ1-00713  \n",
       "3  9,0166666666666657             8,0166666666666657     Будни  ОРГ1-02127  \n",
       "4  9,2166666666666668             8,2166666666666668     Будни  ОРГ1-01739  "
      ]
     },
     "execution_count": 3,
     "metadata": {},
     "output_type": "execute_result"
    }
   ],
   "source": [
    "# data import\n",
    "skud = pd.read_csv('../data/raw/SKUD.csv')\n",
    "skud.head()"
   ]
  },
  {
   "cell_type": "code",
   "execution_count": 4,
   "id": "f5a7c56c",
   "metadata": {},
   "outputs": [],
   "source": [
    "# date to_datetime transformation\n",
    "skud['date_skud'] = pd.to_datetime(skud['Дата'].apply(lambda x: x[:10]), format='%Y-%m-%d')\n",
    "# drop column\n",
    "skud.drop('Дата', axis=1, inplace=True)"
   ]
  },
  {
   "cell_type": "code",
   "execution_count": 5,
   "id": "380fe170",
   "metadata": {},
   "outputs": [
    {
     "name": "stdout",
     "output_type": "stream",
     "text": [
      "2021-04-14 00:00:00\n",
      "2021-03-01 00:00:00\n"
     ]
    }
   ],
   "source": [
    "max_date = skud['date_skud'].max()\n",
    "print(max_date)\n",
    "min_date = skud['date_skud'].min()\n",
    "print(min_date)"
   ]
  },
  {
   "cell_type": "code",
   "execution_count": 6,
   "id": "d6c3f789",
   "metadata": {},
   "outputs": [],
   "source": [
    "skud['total_time_skud'] = skud['Длительность общая'].apply(lambda x: float(x.replace(',','.')))\n",
    "skud.drop('Длительность общая', axis=1, inplace=True)\n",
    "\n",
    "skud['work_time_skud'] = skud['Длительность раб.дня без обеда'].apply(lambda x: float(x.replace(',','.')))\n",
    "skud.drop('Длительность раб.дня без обеда', axis=1, inplace=True)"
   ]
  },
  {
   "cell_type": "code",
   "execution_count": 7,
   "id": "34c0f5a6",
   "metadata": {},
   "outputs": [],
   "source": [
    "skud['is_weekend_skud'] = np.where(skud['Вых/Будни'] == 'Выходные дни', 1, 0)\n",
    "skud['is_workdays_skud'] = np.where(skud['Вых/Будни'] == 'Будни', 1, 0)"
   ]
  },
  {
   "cell_type": "code",
   "execution_count": null,
   "id": "dedde4c2",
   "metadata": {},
   "outputs": [],
   "source": []
  },
  {
   "cell_type": "code",
   "execution_count": 8,
   "id": "c9989c51",
   "metadata": {},
   "outputs": [],
   "source": [
    "skud['arrive'] = pd.to_datetime(skud['Приход.1'].apply(lambda x: x[11:19]), format='%H:%M:%S')\n",
    "skud['left'] = pd.to_datetime(skud['Уход.1'].apply(lambda x: x[11:19]), format='%H:%M:%S')"
   ]
  },
  {
   "cell_type": "code",
   "execution_count": 9,
   "id": "beeb9862",
   "metadata": {},
   "outputs": [
    {
     "name": "stderr",
     "output_type": "stream",
     "text": [
      "/var/folders/dd/p98qrkfn48g4vx43m7wc74rc0000gp/T/ipykernel_14006/3782467486.py:2: SettingWithCopyWarning: \n",
      "A value is trying to be set on a copy of a slice from a DataFrame\n",
      "\n",
      "See the caveats in the documentation: https://pandas.pydata.org/pandas-docs/stable/user_guide/indexing.html#returning-a-view-versus-a-copy\n",
      "  skud['arrive'].loc[i] = datetime.combine(skud['date_skud'].loc[i].date(\n"
     ]
    }
   ],
   "source": [
    "for i in skud.index:\n",
    "    skud['arrive'].loc[i] = datetime.combine(skud['date_skud'].loc[i].date(\n",
    "    ), skud['arrive'].loc[i].time())"
   ]
  },
  {
   "cell_type": "code",
   "execution_count": 10,
   "id": "4fcf75d3",
   "metadata": {},
   "outputs": [
    {
     "name": "stderr",
     "output_type": "stream",
     "text": [
      "/var/folders/dd/p98qrkfn48g4vx43m7wc74rc0000gp/T/ipykernel_14006/2850309684.py:2: SettingWithCopyWarning: \n",
      "A value is trying to be set on a copy of a slice from a DataFrame\n",
      "\n",
      "See the caveats in the documentation: https://pandas.pydata.org/pandas-docs/stable/user_guide/indexing.html#returning-a-view-versus-a-copy\n",
      "  skud['left'].loc[i] = datetime.combine(skud['date_skud'].loc[i].date(\n"
     ]
    }
   ],
   "source": [
    "for i in skud.index:\n",
    "    skud['left'].loc[i] = datetime.combine(skud['date_skud'].loc[i].date(\n",
    "    ), skud['left'].loc[i].time())"
   ]
  },
  {
   "cell_type": "code",
   "execution_count": 11,
   "id": "714a8328",
   "metadata": {},
   "outputs": [],
   "source": [
    "skud = skud.sort_values(by=['id', 'arrive']).drop_duplicates(subset=['id', 'date_skud'], keep='first')"
   ]
  },
  {
   "cell_type": "code",
   "execution_count": 12,
   "id": "e9aee005",
   "metadata": {},
   "outputs": [],
   "source": [
    "skud.drop(['Приход.1', 'Уход.1', 'Вых/Будни'], axis=1, inplace=True)"
   ]
  },
  {
   "cell_type": "code",
   "execution_count": 13,
   "id": "8d8a320d",
   "metadata": {},
   "outputs": [],
   "source": [
    "def days_since_last_record(dates, max_date=max_date):\n",
    "    return (max_date- dates.max()).days"
   ]
  },
  {
   "cell_type": "code",
   "execution_count": 14,
   "id": "3549392b",
   "metadata": {},
   "outputs": [],
   "source": [
    "grouped_skud = skud.groupby('id', as_index=False).agg({\n",
    "    'date_skud':[days_since_last_record, 'count'],\n",
    "    'total_time_skud':['sum', 'mean', 'median'],\n",
    "    'work_time_skud': ['sum', 'mean', 'median'],\n",
    "    'is_weekend_skud': ['sum','mean'],\n",
    "    'is_workdays_skud': ['sum', 'mean']\n",
    "})"
   ]
  },
  {
   "cell_type": "code",
   "execution_count": 15,
   "id": "bd52a4a3",
   "metadata": {},
   "outputs": [],
   "source": [
    "grouped_skud.columns = grouped_skud.columns.map('_'.join).str.strip('_')"
   ]
  },
  {
   "cell_type": "code",
   "execution_count": 16,
   "id": "23bae5ea",
   "metadata": {},
   "outputs": [],
   "source": [
    "grouped_skud['exists_in_skud'] = 1"
   ]
  },
  {
   "cell_type": "code",
   "execution_count": 18,
   "id": "3c3192bb",
   "metadata": {},
   "outputs": [],
   "source": [
    "grouped_skud.to_csv('../data/prepared/grouped_skud.csv', index=False)"
   ]
  },
  {
   "cell_type": "code",
   "execution_count": null,
   "id": "72aad11f",
   "metadata": {},
   "outputs": [],
   "source": [
    "grouped_skud"
   ]
  },
  {
   "cell_type": "code",
   "execution_count": null,
   "id": "2a013852",
   "metadata": {},
   "outputs": [],
   "source": []
  },
  {
   "cell_type": "code",
   "execution_count": 19,
   "id": "e709b965",
   "metadata": {},
   "outputs": [
    {
     "name": "stdout",
     "output_type": "stream",
     "text": [
      "Significant features from RFE Index(['date_skud_days_since_last_record', 'total_time_skud_median',\n",
      "       'total_time_skud_min', 'work_time_skud_median', 'work_time_skud_min',\n",
      "       'is_weekend_skud_sum', 'is_weekend_skud_mean', 'is_workdays_skud_mean'],\n",
      "      dtype='object')\n"
     ]
    }
   ],
   "source": [
    "from sklearn.preprocessing import StandardScaler\n",
    "from sklearn.svm import SVC\n",
    "from sklearn.feature_selection import RFE\n",
    "\n",
    "train = pd.read_csv('data/train_dataset_train.csv')\n",
    "\n",
    "marked_calls = pd.merge(grouped_skud, train, how='inner', on='id').drop('id', axis=1)\n",
    "\n",
    "for col in list(marked_calls):\n",
    "    marked_calls[col] = marked_calls[col].fillna(marked_calls[col].mean())\n",
    "\n",
    "scaler = StandardScaler()\n",
    "marked_calls_st = scaler.fit_transform(marked_calls)\n",
    "marked_calls_st_df = pd.DataFrame(marked_calls_st, columns = marked_calls.columns)\n",
    "\n",
    "X_train = marked_calls_st_df.drop('type', axis=1)\n",
    "y_train = marked_calls['type']\n",
    "svc_lin=SVC(kernel='linear')\n",
    "svm_rfe_model=RFE(estimator=svc_lin)\n",
    "svm_rfe_model_fit=svm_rfe_model.fit(X_train, y_train)\n",
    "feat_index = pd.Series(data = svm_rfe_model_fit.ranking_, index = X_train.columns)\n",
    "signi_feat_rfe = feat_index[feat_index==1].index\n",
    "\n",
    "print('Significant features from RFE',signi_feat_rfe)\n",
    "\n",
    "sig_cols = signi_feat_rfe.to_list()\n",
    "sig_cols.append('id')\n",
    "\n",
    "grouped_skud_sig = grouped_skud[sig_cols].copy()\n",
    "grouped_skud_sig['exists_in_skud'] = 1\n",
    "\n",
    "grouped_skud_sig.to_csv('data/prepared/grouped_skud_sig.csv', index=False)"
   ]
  },
  {
   "cell_type": "code",
   "execution_count": null,
   "id": "615f1a3b",
   "metadata": {},
   "outputs": [],
   "source": []
  },
  {
   "cell_type": "code",
   "execution_count": null,
   "id": "ccd25da2",
   "metadata": {},
   "outputs": [],
   "source": []
  },
  {
   "cell_type": "code",
   "execution_count": null,
   "id": "0c9f01cb",
   "metadata": {},
   "outputs": [],
   "source": []
  },
  {
   "cell_type": "code",
   "execution_count": null,
   "id": "c3dbafda",
   "metadata": {},
   "outputs": [],
   "source": []
  }
 ],
 "metadata": {
  "kernelspec": {
   "display_name": "Python 3 (ipykernel)",
   "language": "python",
   "name": "python3"
  },
  "language_info": {
   "codemirror_mode": {
    "name": "ipython",
    "version": 3
   },
   "file_extension": ".py",
   "mimetype": "text/x-python",
   "name": "python",
   "nbconvert_exporter": "python",
   "pygments_lexer": "ipython3",
   "version": "3.9.13"
  }
 },
 "nbformat": 4,
 "nbformat_minor": 5
}
