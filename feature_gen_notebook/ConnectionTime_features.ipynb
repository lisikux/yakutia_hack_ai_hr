{
 "cells": [
  {
   "cell_type": "code",
   "execution_count": 28,
   "id": "aa5f7815",
   "metadata": {},
   "outputs": [],
   "source": [
    "import pandas as pd\n",
    "import numpy as np\n",
    "\n",
    "from datetime import datetime as dt\n",
    "from datetime import timedelta\n",
    "\n",
    "from functools import reduce\n"
   ]
  },
  {
   "cell_type": "code",
   "execution_count": 29,
   "id": "e3e0e862",
   "metadata": {},
   "outputs": [
    {
     "data": {
      "text/html": [
       "<div>\n",
       "<style scoped>\n",
       "    .dataframe tbody tr th:only-of-type {\n",
       "        vertical-align: middle;\n",
       "    }\n",
       "\n",
       "    .dataframe tbody tr th {\n",
       "        vertical-align: top;\n",
       "    }\n",
       "\n",
       "    .dataframe thead th {\n",
       "        text-align: right;\n",
       "    }\n",
       "</style>\n",
       "<table border=\"1\" class=\"dataframe\">\n",
       "  <thead>\n",
       "    <tr style=\"text-align: right;\">\n",
       "      <th></th>\n",
       "      <th>dateNum</th>\n",
       "      <th>maxLogOff</th>\n",
       "      <th>Нормативное время начала раб.дня</th>\n",
       "      <th>Фактич. время начала раб.дня</th>\n",
       "      <th>Время опоздания</th>\n",
       "      <th>Признак опоздания</th>\n",
       "      <th>Вых/Будни</th>\n",
       "      <th>id</th>\n",
       "    </tr>\n",
       "  </thead>\n",
       "  <tbody>\n",
       "    <tr>\n",
       "      <th>0</th>\n",
       "      <td>2021-12-15 00:00:00,000</td>\n",
       "      <td>2021-12-15 17:30:27,246</td>\n",
       "      <td>1899-12-30 08:30:00,000</td>\n",
       "      <td>1899-12-30 08:24:18,606</td>\n",
       "      <td>NaN</td>\n",
       "      <td>NaN</td>\n",
       "      <td>Будни</td>\n",
       "      <td>ОРГ1-02782</td>\n",
       "    </tr>\n",
       "    <tr>\n",
       "      <th>1</th>\n",
       "      <td>2021-12-15 00:00:00,000</td>\n",
       "      <td>2021-12-15 16:30:13,330</td>\n",
       "      <td>1899-12-30 08:30:00,000</td>\n",
       "      <td>1899-12-30 01:05:20,513</td>\n",
       "      <td>NaN</td>\n",
       "      <td>NaN</td>\n",
       "      <td>Будни</td>\n",
       "      <td>ОРГ1-01407</td>\n",
       "    </tr>\n",
       "    <tr>\n",
       "      <th>2</th>\n",
       "      <td>2021-12-15 00:00:00,000</td>\n",
       "      <td>2021-12-15 15:27:37,246</td>\n",
       "      <td>1899-12-30 08:30:00,000</td>\n",
       "      <td>1899-12-30 05:47:33,156</td>\n",
       "      <td>NaN</td>\n",
       "      <td>NaN</td>\n",
       "      <td>Будни</td>\n",
       "      <td>ОРГ1-01909</td>\n",
       "    </tr>\n",
       "    <tr>\n",
       "      <th>3</th>\n",
       "      <td>2021-12-15 00:00:00,000</td>\n",
       "      <td>2021-12-15 20:35:14,833</td>\n",
       "      <td>1899-12-30 08:30:00,000</td>\n",
       "      <td>1899-12-30 08:28:43,956</td>\n",
       "      <td>NaN</td>\n",
       "      <td>NaN</td>\n",
       "      <td>Будни</td>\n",
       "      <td>ОРГ1-00254</td>\n",
       "    </tr>\n",
       "    <tr>\n",
       "      <th>4</th>\n",
       "      <td>2021-12-15 00:00:00,000</td>\n",
       "      <td>2021-12-15 17:32:16,913</td>\n",
       "      <td>1899-12-30 08:30:00,000</td>\n",
       "      <td>1899-12-30 08:16:02,896</td>\n",
       "      <td>NaN</td>\n",
       "      <td>NaN</td>\n",
       "      <td>Будни</td>\n",
       "      <td>ОРГ1-02543</td>\n",
       "    </tr>\n",
       "  </tbody>\n",
       "</table>\n",
       "</div>"
      ],
      "text/plain": [
       "                   dateNum                maxLogOff  \\\n",
       "0  2021-12-15 00:00:00,000  2021-12-15 17:30:27,246   \n",
       "1  2021-12-15 00:00:00,000  2021-12-15 16:30:13,330   \n",
       "2  2021-12-15 00:00:00,000  2021-12-15 15:27:37,246   \n",
       "3  2021-12-15 00:00:00,000  2021-12-15 20:35:14,833   \n",
       "4  2021-12-15 00:00:00,000  2021-12-15 17:32:16,913   \n",
       "\n",
       "  Нормативное время начала раб.дня Фактич. время начала раб.дня  \\\n",
       "0          1899-12-30 08:30:00,000      1899-12-30 08:24:18,606   \n",
       "1          1899-12-30 08:30:00,000      1899-12-30 01:05:20,513   \n",
       "2          1899-12-30 08:30:00,000      1899-12-30 05:47:33,156   \n",
       "3          1899-12-30 08:30:00,000      1899-12-30 08:28:43,956   \n",
       "4          1899-12-30 08:30:00,000      1899-12-30 08:16:02,896   \n",
       "\n",
       "  Время опоздания Признак опоздания Вых/Будни          id  \n",
       "0             NaN               NaN     Будни  ОРГ1-02782  \n",
       "1             NaN               NaN     Будни  ОРГ1-01407  \n",
       "2             NaN               NaN     Будни  ОРГ1-01909  \n",
       "3             NaN               NaN     Будни  ОРГ1-00254  \n",
       "4             NaN               NaN     Будни  ОРГ1-02543  "
      ]
     },
     "execution_count": 29,
     "metadata": {},
     "output_type": "execute_result"
    }
   ],
   "source": [
    "connection = pd.read_csv('../data/raw/ConnectionTime.csv', low_memory=False)\n",
    "connection.drop_duplicates(inplace=True)\n",
    "connection.head()"
   ]
  },
  {
   "cell_type": "code",
   "execution_count": 30,
   "id": "acb801a9",
   "metadata": {},
   "outputs": [],
   "source": [
    "# date column \n",
    "connection['date_connected'] = connection['dateNum'].apply(lambda x: x[:10])\n",
    "# time logoff\n",
    "connection['time_end_max'] = connection['maxLogOff'].apply(lambda x: x[:19])\n",
    "# time start normative\n",
    "connection['time_start_normative'] = connection['Нормативное время начала раб.дня'].apply(lambda x: x[11:19])\n",
    "# time start fact\n",
    "connection['time_start_fact'] = connection['Фактич. время начала раб.дня'].apply(lambda x: x[11:19])\n",
    "# drop unuseful cols\n",
    "connection.drop(['Нормативное время начала раб.дня', 'Фактич. время начала раб.дня'], axis=1, inplace=True)"
   ]
  },
  {
   "cell_type": "code",
   "execution_count": 31,
   "id": "86f7bffd",
   "metadata": {},
   "outputs": [],
   "source": [
    "connection['date_connected'] = pd.to_datetime(connection['date_connected'], format='%Y-%m-%d')\n",
    "connection['time_end_max'] = pd.to_datetime(connection['time_end_max'], format='%Y-%m-%d %H:%M:%S')\n",
    "\n",
    "connection['time_start_normative'] = pd.to_datetime(connection['time_start_normative'], format='%H:%M:%S')\n",
    "connection['time_start_fact'] = pd.to_datetime(connection['time_start_fact'], format='%H:%M:%S')"
   ]
  },
  {
   "cell_type": "code",
   "execution_count": 32,
   "id": "a35572c7",
   "metadata": {},
   "outputs": [
    {
     "name": "stdout",
     "output_type": "stream",
     "text": [
      "date_start_data:  2021-06-20 00:00:00\n",
      "date_end_data:  2021-12-31 00:00:00\n"
     ]
    }
   ],
   "source": [
    "min_date = connection['date_connected'].min()\n",
    "print('date_start_data: ', min_date)\n",
    "max_date = connection['date_connected'].max()\n",
    "print('date_end_data: ', max_date)"
   ]
  },
  {
   "cell_type": "code",
   "execution_count": 33,
   "id": "45a7bf90",
   "metadata": {},
   "outputs": [
    {
     "name": "stderr",
     "output_type": "stream",
     "text": [
      "/var/folders/dd/p98qrkfn48g4vx43m7wc74rc0000gp/T/ipykernel_13972/3971472013.py:2: SettingWithCopyWarning: \n",
      "A value is trying to be set on a copy of a slice from a DataFrame\n",
      "\n",
      "See the caveats in the documentation: https://pandas.pydata.org/pandas-docs/stable/user_guide/indexing.html#returning-a-view-versus-a-copy\n",
      "  connection['time_start_normative'].loc[i] = dt.combine(connection['date_connected'].loc[i].date(\n"
     ]
    }
   ],
   "source": [
    "for i in connection.index:\n",
    "    connection['time_start_normative'].loc[i] = dt.combine(connection['date_connected'].loc[i].date(\n",
    "    ), connection['time_start_normative'].loc[i].time())"
   ]
  },
  {
   "cell_type": "code",
   "execution_count": 34,
   "id": "0d3de962",
   "metadata": {
    "scrolled": true
   },
   "outputs": [
    {
     "name": "stderr",
     "output_type": "stream",
     "text": [
      "/var/folders/dd/p98qrkfn48g4vx43m7wc74rc0000gp/T/ipykernel_13972/1687800683.py:2: SettingWithCopyWarning: \n",
      "A value is trying to be set on a copy of a slice from a DataFrame\n",
      "\n",
      "See the caveats in the documentation: https://pandas.pydata.org/pandas-docs/stable/user_guide/indexing.html#returning-a-view-versus-a-copy\n",
      "  connection['time_start_fact'].loc[i] = dt.combine(connection['date_connected'].loc[i].date(\n"
     ]
    }
   ],
   "source": [
    "for i in connection.index:\n",
    "    connection['time_start_fact'].loc[i] = dt.combine(connection['date_connected'].loc[i].date(\n",
    "    ), connection['time_start_fact'].loc[i].time())"
   ]
  },
  {
   "cell_type": "code",
   "execution_count": 35,
   "id": "ff9ec0af",
   "metadata": {},
   "outputs": [
    {
     "name": "stdout",
     "output_type": "stream",
     "text": [
      "Count of duplicated date and id:  52125\n"
     ]
    }
   ],
   "source": [
    "# duplicated date and id\n",
    "print('Count of duplicated date and id: ', connection[['date_connected','id']].duplicated().sum())"
   ]
  },
  {
   "cell_type": "code",
   "execution_count": 36,
   "id": "a77a45cd",
   "metadata": {},
   "outputs": [
    {
     "name": "stdout",
     "output_type": "stream",
     "text": [
      "Count of duplicated date and id:  0\n"
     ]
    }
   ],
   "source": [
    "# sort rows by id and time_start_fact ascending\n",
    "connection = connection.sort_values(['id','time_start_fact'])\n",
    "\n",
    "# drop duplicates by date and id, keep first (means keep only first login in each day)\n",
    "connection = connection.drop_duplicates(subset=['id','date_connected'], keep='first')\n",
    "\n",
    "# duplicated date and id check after clean\n",
    "print('Count of duplicated date and id: ', connection[['date_connected','id']].duplicated().sum())"
   ]
  },
  {
   "cell_type": "code",
   "execution_count": 37,
   "id": "891fec00",
   "metadata": {},
   "outputs": [],
   "source": [
    "# time start deviation\n",
    "connection['time_connected_deviation'] = (connection['time_start_fact'] - connection['time_start_normative']\n",
    " ).apply(lambda x: x.total_seconds() / 3600)"
   ]
  },
  {
   "cell_type": "code",
   "execution_count": 38,
   "id": "5f0f892d",
   "metadata": {},
   "outputs": [],
   "source": [
    "# binary is_weekend or is_workday\n",
    "connection['is_workday_connected'] = np.where(connection['Вых/Будни'] == 'Будни', 1, 0)\n",
    "connection['is_weekend_connected'] = np.where(connection['Вых/Будни'] == 'Выходные дни', 1, 0)"
   ]
  },
  {
   "cell_type": "code",
   "execution_count": 39,
   "id": "fa260620",
   "metadata": {},
   "outputs": [],
   "source": [
    "# drop unnecessary columns\n",
    "connection = connection.drop(['dateNum', 'maxLogOff', 'Время опоздания','Признак опоздания', 'Вых/Будни'], axis=1)"
   ]
  },
  {
   "cell_type": "code",
   "execution_count": 40,
   "id": "784708f5",
   "metadata": {},
   "outputs": [],
   "source": [
    "# is late binary column create (late = came more than 10 minus after start)\n",
    "connection['is_late_connected'] = np.where(connection['time_connected_deviation'] > 0.17, 1, 0)\n",
    "# is late more than one hour\n",
    "connection['late_more_than_hour'] = np.where(connection['time_connected_deviation'] > 1, 1, 0)\n",
    "# early came to work (earlier than 1 hour)\n",
    "connection['early_more_than_hour'] = np.where(connection['time_connected_deviation'] < 1, 1 ,0)"
   ]
  },
  {
   "cell_type": "code",
   "execution_count": 41,
   "id": "bd0664e7",
   "metadata": {},
   "outputs": [],
   "source": [
    "# total time connected during session\n",
    "connection['total_time_connected'] = (connection['time_end_max'] - connection['time_start_fact']).apply(\n",
    "    lambda x: x.total_seconds() / 3600)"
   ]
  },
  {
   "cell_type": "code",
   "execution_count": 42,
   "id": "208dcd39",
   "metadata": {},
   "outputs": [],
   "source": [
    "# aggregation function to calculate employment time\n",
    "def work_period_by_connection(dates):\n",
    "    if (dates.max() - dates.min()).days == 0:\n",
    "        return 1\n",
    "    else:\n",
    "        return (dates.max() - dates.min()).days"
   ]
  },
  {
   "cell_type": "code",
   "execution_count": 43,
   "id": "d858132d",
   "metadata": {},
   "outputs": [],
   "source": [
    "# agg function to find days since last connect\n",
    "def days_since_last_connection(dates, max_date=max_date):\n",
    "    return (max_date - dates.max()).days"
   ]
  },
  {
   "cell_type": "code",
   "execution_count": 44,
   "id": "3fc96e57",
   "metadata": {},
   "outputs": [],
   "source": [
    "connection_last_150 = connection[connection['date_connected'] > (max_date - timedelta(days=150))]\n",
    "connection_last_100 = connection[connection['date_connected'] > (max_date - timedelta(days=100))]\n",
    "connection_last_50 = connection[connection['date_connected'] > (max_date - timedelta(days=50))]"
   ]
  },
  {
   "cell_type": "code",
   "execution_count": 45,
   "id": "ad70df78",
   "metadata": {},
   "outputs": [],
   "source": [
    "def aggregation(connection): \n",
    "# aggregation connection df\n",
    "    grouped_connection = connection.groupby('id', as_index=False).agg({\n",
    "    'date_connected':['count', work_period_by_connection, days_since_last_connection],\n",
    "    'time_connected_deviation':['sum', 'mean', 'median', 'std', 'min', 'max'],\n",
    "    'total_time_connected':['sum','mean', 'median', 'std', 'min', 'max'],\n",
    "    'is_late_connected':['sum','mean'],\n",
    "    'early_more_than_hour': ['sum','mean'],\n",
    "    'late_more_than_hour':['sum', 'mean'],\n",
    "    'is_workday_connected':['sum','mean'],\n",
    "    'is_weekend_connected':['sum','mean']  \n",
    "})\n",
    "    grouped_connection.columns = grouped_connection.columns.map('_'.join).str.strip('_')\n",
    "    return grouped_connection"
   ]
  },
  {
   "cell_type": "code",
   "execution_count": 46,
   "id": "e2e91329",
   "metadata": {},
   "outputs": [],
   "source": [
    "grouped_connection = aggregation(connection)\n",
    "\n",
    "grouped_connection['mean_time_due_employed'] = grouped_connection['total_time_connected_sum'] / \\\n",
    "    grouped_connection['date_connected_work_period_by_connection']\n",
    "grouped_connection.columns = grouped_connection.columns.map(\n",
    "    lambda x: x+'_total' if x != 'id' else x)\n",
    "\n",
    "grouped_connection_last_50 = aggregation(connection_last_50)\n",
    "grouped_connection_last_50.columns = grouped_connection_last_50.columns.map(\n",
    "    lambda x: x+'_last_50' if x != 'id' else x)\n",
    "\n",
    "grouped_connection_last_100 = aggregation(connection_last_100)\n",
    "grouped_connection_last_100.columns = grouped_connection_last_100.columns.map(\n",
    "    lambda x: x+'_last_100' if x != 'id' else x)\n",
    "\n",
    "grouped_connection_last_150 = aggregation(connection_last_150)\n",
    "grouped_connection_last_150.columns = grouped_connection_last_150.columns.map(\n",
    "    lambda x: x+'_last_150' if x != 'id' else x)"
   ]
  },
  {
   "cell_type": "code",
   "execution_count": 47,
   "id": "afc749c9",
   "metadata": {},
   "outputs": [],
   "source": [
    "# merge all dfs in one\n",
    "connection_dfs_for_merge = [grouped_connection, grouped_connection_last_150,\n",
    "                            grouped_connection_last_100, grouped_connection_last_50]\n",
    "\n",
    "grouped_data = reduce(lambda left, right: pd.merge(left, right, on=['id'],\n",
    "                                                   how='left'), connection_dfs_for_merge)"
   ]
  },
  {
   "cell_type": "code",
   "execution_count": 48,
   "id": "841752eb",
   "metadata": {},
   "outputs": [],
   "source": [
    "grouped_data['exists_in_connection'] = 1"
   ]
  },
  {
   "cell_type": "code",
   "execution_count": 49,
   "id": "6b57c6fe",
   "metadata": {},
   "outputs": [],
   "source": [
    "grouped_data.to_csv('../data/prepared/grouped_connection.csv', index=False)"
   ]
  },
  {
   "cell_type": "code",
   "execution_count": null,
   "id": "c6cfa545",
   "metadata": {},
   "outputs": [],
   "source": []
  },
  {
   "cell_type": "code",
   "execution_count": null,
   "id": "9a665801",
   "metadata": {},
   "outputs": [],
   "source": []
  },
  {
   "cell_type": "code",
   "execution_count": null,
   "id": "9afbedfc",
   "metadata": {},
   "outputs": [],
   "source": []
  }
 ],
 "metadata": {
  "kernelspec": {
   "display_name": "Python 3 (ipykernel)",
   "language": "python",
   "name": "python3"
  },
  "language_info": {
   "codemirror_mode": {
    "name": "ipython",
    "version": 3
   },
   "file_extension": ".py",
   "mimetype": "text/x-python",
   "name": "python",
   "nbconvert_exporter": "python",
   "pygments_lexer": "ipython3",
   "version": "3.9.13"
  }
 },
 "nbformat": 4,
 "nbformat_minor": 5
}
